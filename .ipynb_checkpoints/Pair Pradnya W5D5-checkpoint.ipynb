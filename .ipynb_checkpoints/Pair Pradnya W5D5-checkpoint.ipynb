{
 "cells": [
  {
   "cell_type": "code",
   "execution_count": 15,
   "metadata": {},
   "outputs": [
    {
     "data": {
      "text/plain": [
       "0.1875"
      ]
     },
     "execution_count": 15,
     "metadata": {},
     "output_type": "execute_result"
    }
   ],
   "source": [
    "def makedict(c, cp)\n",
    "def coinclass(h1, h2, c):\n",
    "    c-=1\n",
    "    cp=[.5,1/3,1/4]\n",
    "    cointypes=['c1','c2','c3']\n",
    "    probadict={}\n",
    "    \n",
    "    probadict['1-1-c1'] = cp[c]*cp[c]\n",
    "    probadict['1-1-c2'] = cp[c]*cp[c]\n",
    "    probadict['1-1-c3'] = cp[c]*cp[c]\n",
    "    probadict['1-0-c1'] = cp[c]*(1-cp[c])\n",
    "    probadict['1-0-c2'] = cp[c]*(1-cp[c])\n",
    "    probadict['1-0-c3'] = cp[c]*(1-cp[c])\n",
    "    probadict['0-0-c1'] = (1-cp[c])**2\n",
    "    probadict['0-0-c2'] = (1-cp[c])**2\n",
    "    probadict['0-0-c3'] = (1-cp[c])**2\n",
    "    return probadict['{}-{}-{}'.format(h1,h2,cointypes[c-1])]\n",
    "coinclass(1,0, 3)"
   ]
  },
  {
   "cell_type": "code",
   "execution_count": 16,
   "metadata": {},
   "outputs": [
    {
     "data": {
      "text/plain": [
       "0.1875"
      ]
     },
     "execution_count": 16,
     "metadata": {},
     "output_type": "execute_result"
    }
   ],
   "source": [
    "def coinclass(h1, h2, c):\n",
    "    cp=[.5,1/3,1/4]\n",
    "    cointypes=['c1','c2','c3']\n",
    "    probadict={}\n",
    "    \n",
    "    probadict['1-1-c1'] = 1/4\n",
    "    probadict['1-1-c2'] = 1/9\n",
    "    probadict['1-1-c3'] = 1/16\n",
    "    probadict['1-0-c1'] = 1/4\n",
    "    probadict['1-0-c2'] = 2/9\n",
    "    probadict['1-0-c3'] = 3/16\n",
    "    probadict['0-0-c1'] = 1/4\n",
    "    probadict['0-0-c2'] = 4/9\n",
    "    probadict['0-0-c3'] = 9/16\n",
    "    return probadict['{}-{}-{}'.format(h1,h2,cointypes[c-1])]\n",
    "coinclass(1,0, 3)"
   ]
  },
  {
   "cell_type": "code",
   "execution_count": 23,
   "metadata": {},
   "outputs": [
    {
     "data": {
      "text/plain": [
       "0.1875"
      ]
     },
     "execution_count": 23,
     "metadata": {},
     "output_type": "execute_result"
    }
   ],
   "source": [
    "def coinclass(h1, h2, c):\n",
    "    c-=1\n",
    "    cp=[.5,1/3,1/4]\n",
    "    cointypes=['c1','c2','c3']\n",
    "    probadict={}\n",
    "    \n",
    "    probadict['1-1'] = cp[c]*cp[c]\n",
    "    probadict['1-0'] = cp[c]*(1-cp[c])\n",
    "    probadict['0-0'] = (1-cp[c])**2\n",
    "\n",
    "    return probadict['{}-{}'.format(h1,h2)]\n",
    "coinclass(1,0, 3)"
   ]
  },
  {
   "cell_type": "code",
   "execution_count": 287,
   "metadata": {},
   "outputs": [
    {
     "data": {
      "text/plain": [
       "[0.9999999949177562,\n",
       " 5.082242751325848e-09,\n",
       " 1.0815751657504917e-15,\n",
       " 4.113761372395896e-21,\n",
       " 5.60081311075081e-36,\n",
       " 0.0,\n",
       " 0.0]"
      ]
     },
     "execution_count": 287,
     "metadata": {},
     "output_type": "execute_result"
    }
   ],
   "source": [
    "def coinclass(results, cp=[.5,1/3,1/4]):\n",
    "    probas=[]\n",
    "    x=sum(results)\n",
    "    INVcointypes=1/len(cp)\n",
    "    resultslen=len(results)\n",
    "    if resultslen==2 and x>resultslen:\n",
    "        resultslen=x\n",
    "        x=results[0]\n",
    "    for i in range(len(cp)):\n",
    "            probas.append(INVcointypes*(cp[i]**x)*(1-cp[i])**(resultslen-x))\n",
    "    tempsum=sum(probas)\n",
    "    for i in range(len(cp)):\n",
    "        probas[i]=probas[i]/tempsum\n",
    "    return ['The coin was probably coin-{}'.format(probas.index(max(probas))+1), probas]\n",
    "coinclass([62,21], [.5,1/3,1/4,1/5,1/9,1,0])"
   ]
  },
  {
   "cell_type": "code",
   "execution_count": null,
   "metadata": {},
   "outputs": [],
   "source": []
  }
 ],
 "metadata": {
  "kernelspec": {
   "display_name": "Python 3",
   "language": "python",
   "name": "python3"
  },
  "language_info": {
   "codemirror_mode": {
    "name": "ipython",
    "version": 3
   },
   "file_extension": ".py",
   "mimetype": "text/x-python",
   "name": "python",
   "nbconvert_exporter": "python",
   "pygments_lexer": "ipython3",
   "version": "3.6.1"
  }
 },
 "nbformat": 4,
 "nbformat_minor": 2
}
